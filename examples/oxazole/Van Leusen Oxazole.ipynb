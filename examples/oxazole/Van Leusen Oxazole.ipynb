{
 "cells": [
  {
   "cell_type": "code",
   "execution_count": 26,
   "metadata": {},
   "outputs": [],
   "source": [
    "import AnalyticalLabware\n",
    "import logging\n",
    "\n",
    "logging.basicConfig(level=logging.DEBUG)"
   ]
  },
  {
   "cell_type": "code",
   "execution_count": 27,
   "metadata": {},
   "outputs": [
    {
     "name": "stderr",
     "output_type": "stream",
     "text": [
      "INFO:hplc_logger:Send command No. 256: last_cmd_no = 0.\n",
      "INFO:hplc_logger:Reply: \n",
      "256 ACK\n",
      "256 \n",
      "256 DONE\n",
      "\n",
      "DEBUG:hplc_logger:Reset command counter\n",
      "INFO:hplc_logger:HPLC Controller initialized.\n",
      "INFO:main_logger.sim_logger:Received SimIKARCTDigital hotplate (port = 5000)\n",
      "INFO:main_logger.sim_logger:Received Valve \"valve_1\" Address: 192.168.1.41\n",
      "INFO:main_logger.sim_logger:Received Valve \"valve_2\" Address: 192.168.1.42\n",
      "INFO:main_logger.sim_logger:Received Valve \"valve_3\" Address: 192.168.1.43\n",
      "DEBUG:main_logger.sim_logger:Valve \"valve_1\" - Waiting until ready...\n",
      "DEBUG:main_logger.sim_logger:Valve \"valve_2\" - Waiting until ready...\n",
      "DEBUG:main_logger.sim_logger:Valve \"valve_3\" - Waiting until ready...\n",
      "INFO:main_logger.sim_logger:Received Pump \"pump_1\" Address: 192.168.1.12\n",
      "INFO:main_logger.sim_logger:Received Pump \"pump_2\" Address: 192.168.1.14\n",
      "INFO:main_logger.sim_logger:Received Pump \"pump_3\" Address: 192.168.1.15\n",
      "DEBUG:main_logger.sim_logger:Pump \"pump_1\" - Waiting until ready...\n",
      "DEBUG:main_logger.sim_logger:Pump \"pump_2\" - Waiting until ready...\n",
      "DEBUG:main_logger.sim_logger:Pump \"pump_3\" - Waiting until ready...\n",
      "DEBUG:main_logger.sim_logger:Pump \"pump_1\" - Waiting until ready...\n",
      "DEBUG:main_logger.sim_logger:Pump \"pump_2\" - Waiting until ready...\n",
      "DEBUG:main_logger.sim_logger:Pump \"pump_3\" - Waiting until ready...\n",
      "DEBUG:main_logger.sim_logger:Valve \"valve_1\" - Waiting until ready...\n",
      "DEBUG:main_logger.sim_logger:Valve \"valve_2\" - Waiting until ready...\n",
      "DEBUG:main_logger.sim_logger:Valve \"valve_3\" - Waiting until ready...\n",
      "DEBUG:main_logger.sim_logger:SimIKARCTDigital hotplate - Waiting until ready.\n"
     ]
    }
   ],
   "source": [
    "from chempiler import Chempiler\n",
    "import ChemputerAPI\n",
    "\n",
    "c = Chempiler(\n",
    "    experiment_code=\"oxazole\",\n",
    "    output_dir=\"\\logs\",\n",
    "    graph_file=\"mini_AH_analytics.json\",\n",
    "    device_modules=[ChemputerAPI, AnalyticalLabware],\n",
    "    simulation=True,\n",
    ")"
   ]
  },
  {
   "cell_type": "code",
   "execution_count": 29,
   "metadata": {},
   "outputs": [
    {
     "name": "stderr",
     "output_type": "stream",
     "text": [
      "INFO:main_logger.sim_logger:IKARCT - Stopping stirrer\n"
     ]
    }
   ],
   "source": [
    "c[\"hotplate\"].stop_stirrer()"
   ]
  },
  {
   "cell_type": "code",
   "execution_count": 28,
   "metadata": {},
   "outputs": [
    {
     "name": "stderr",
     "output_type": "stream",
     "text": [
      "DEBUG:main_logger.serial_device_logger:Sending command S00\n",
      " sent.main_logger.serial_device_logger:Command  S00\n",
      "DEBUG:main_logger.serial_device_logger:Reply requested, waiting for device...\n",
      "DEBUG:main_logger.serial_device_logger:Received reply: 01\n"
     ]
    },
    {
     "data": {
      "text/plain": [
       "True"
      ]
     },
     "execution_count": 28,
     "metadata": {},
     "output_type": "execute_result"
    }
   ],
   "source": [
    "c['idex'].is_connected"
   ]
  },
  {
   "cell_type": "code",
   "execution_count": null,
   "metadata": {},
   "outputs": [],
   "source": [
    "from xdl import XDL\n",
    "import ChemputerXDL\n",
    "\n",
    "xdl_obj = XDL('van_leusen_oxazole.xdl')"
   ]
  },
  {
   "cell_type": "code",
   "execution_count": null,
   "metadata": {},
   "outputs": [],
   "source": [
    "print(xdl_obj.human_readable())"
   ]
  },
  {
   "cell_type": "code",
   "execution_count": null,
   "metadata": {},
   "outputs": [],
   "source": [
    "xdl_obj.prepare_for_execution('mini_AH.json')"
   ]
  },
  {
   "cell_type": "code",
   "execution_count": null,
   "metadata": {},
   "outputs": [],
   "source": [
    "for base_step in xdl_obj.steps[1].base_steps:\n",
    "    print(base_step, '\\n', base_step.properties, '\\n')"
   ]
  },
  {
   "cell_type": "code",
   "execution_count": null,
   "metadata": {},
   "outputs": [],
   "source": [
    "from chempiler import Chempiler\n",
    "import ChemputerAPI\n",
    "\n",
    "c = Chempiler(\n",
    "    experiment_code=\"oxazole\",\n",
    "    output_dir=\"\\logs\",\n",
    "    graph_file=\"mini_AH.json\",\n",
    "    device_modules=[ChemputerAPI],\n",
    "    simulation=False,\n",
    ")"
   ]
  },
  {
   "cell_type": "code",
   "execution_count": null,
   "metadata": {},
   "outputs": [],
   "source": [
    "xdl_obj.execute(c)"
   ]
  },
  {
   "cell_type": "code",
   "execution_count": null,
   "metadata": {},
   "outputs": [],
   "source": [
    "c.move(\"argon\", \"waste_3\", 5, speed=50)"
   ]
  },
  {
   "cell_type": "code",
   "execution_count": null,
   "metadata": {},
   "outputs": [],
   "source": [
    "c.move(\"water\", \"waste_2\", 5, speed=20)\n",
    "c.move(\"water\", \"reactor\", 5, speed=20)\n",
    "c.move(\"argon\", \"reactor\", 5, speed=20)"
   ]
  },
  {
   "cell_type": "code",
   "execution_count": null,
   "metadata": {},
   "outputs": [],
   "source": [
    "c.move(\"reactor\", \"waste_2\", 1, speed=20)"
   ]
  },
  {
   "cell_type": "code",
   "execution_count": null,
   "metadata": {},
   "outputs": [],
   "source": [
    "c.move(\"reactor\", \"dilution\", 1, speed=20)"
   ]
  },
  {
   "cell_type": "code",
   "execution_count": null,
   "metadata": {},
   "outputs": [],
   "source": [
    "c.move(\"argon\", \"dilution\", 1, speed=20)"
   ]
  },
  {
   "cell_type": "code",
   "execution_count": null,
   "metadata": {},
   "outputs": [],
   "source": [
    "c.move(\"acetonitrile\", \"dilution\", 9, speed=20)"
   ]
  },
  {
   "cell_type": "code",
   "execution_count": null,
   "metadata": {},
   "outputs": [],
   "source": [
    "c.move(\"dilution\", \"waste_3\", 8, speed=20)\n",
    "c.move(\"acetonitrile\", \"dilution\", 9, speed=20)\n",
    "\n",
    "c.move(\"dilution\", \"waste_3\", 8, speed=20)\n",
    "c.move(\"acetonitrile\", \"dilution\", 9, speed=20)"
   ]
  },
  {
   "cell_type": "code",
   "execution_count": null,
   "metadata": {},
   "outputs": [],
   "source": [
    "c.move(\"dilution\", \"idex\", 1, initial_pump_speed=20, end_pump_speed=0.5)"
   ]
  },
  {
   "cell_type": "code",
   "execution_count": null,
   "metadata": {},
   "outputs": [],
   "source": [
    "c['idex'].sample(30)"
   ]
  },
  {
   "cell_type": "code",
   "execution_count": null,
   "metadata": {},
   "outputs": [],
   "source": [
    "c['idex'].move_to_position(1)"
   ]
  },
  {
   "cell_type": "code",
   "execution_count": null,
   "metadata": {},
   "outputs": [],
   "source": [
    "c.move(\"dilution\", \"waste_3\", 10, speed=50)"
   ]
  },
  {
   "cell_type": "code",
   "execution_count": null,
   "metadata": {},
   "outputs": [],
   "source": [
    "c.move(\"water\", \"dilution\", 10, speed=50)"
   ]
  },
  {
   "cell_type": "code",
   "execution_count": null,
   "metadata": {},
   "outputs": [],
   "source": [
    "def clean_dilution():\n",
    "    c.move(\"flask_methanol\", \"dilution\", 4, initial_pump_speed=10)\n",
    "    c.move(\"dilution\", \"waste_3\", 5, initial_pump_speed=10)\n",
    "    c.move(\"acetonitrile\", \"dilution\", 4, initial_pump_speed=10)\n",
    "    c.move(\"dilution\", \"waste_3\", 5, initial_pump_speed=10)\n",
    "    c.move(\"water\", \"dilution\", 4, initial_pump_speed=10)\n",
    "    c.move(\"dilution\", \"waste_3\", 5, initial_pump_speed=10)\n",
    "    \n",
    "def clean_idex():\n",
    "    c.move(\"acetonitrile\", \"idex\", 10, speed=10)\n",
    "    # c.move(\"argon\", \"idex\", 10, speed=20)"
   ]
  },
  {
   "cell_type": "code",
   "execution_count": null,
   "metadata": {},
   "outputs": [],
   "source": [
    "clean_dilution()"
   ]
  },
  {
   "cell_type": "code",
   "execution_count": null,
   "metadata": {},
   "outputs": [],
   "source": [
    "c.move(\"flask_methanol\", \"dilution\", 4, initial_pump_speed=10, dest_port=\"0\")"
   ]
  },
  {
   "cell_type": "code",
   "execution_count": null,
   "metadata": {},
   "outputs": [],
   "source": [
    "def sample(dilution_vol=10):\n",
    "    #make sure backbone is clean beforehand\n",
    "    CleanBackbone(solvent=\"acetonitrile\").execute(c)\n",
    "    # dry with argon?\n",
    "    \n",
    "    #HPLC prep run\n",
    "\n",
    "    \n",
    "    c.breakpoint()\n",
    "    \n",
    "    # get sample\n",
    "    c.move(\"reactor\", \"waste_2\", 0.5, initial_pump_speed=10)\n",
    "    c.move(\"reactor\", \"dilution\", 0.1, initial_pump_speed=10, dest_port=0)\n",
    "    c.move(\"argon\", \"dilution\", 5, speed=50, dest_port=0)\n",
    "    \n",
    "    c.breakpoint()\n",
    "    \n",
    "    # dilute sample\n",
    "    # potential chempiler bug regarding dest_port=0 when competing direct connection\n",
    "    c.move(\"acetonitrile\", \"dilution\", dilution_vol, initial_pump_speed=10, through_nodes=\"valve_2\")\n",
    "    c.wait(60)\n",
    "    #TODO: Stirring\n",
    "    \n",
    "    c.breakpoint()\n",
    "    \n",
    "    # load sample loop\n",
    "    c.move(\"dilution\", \"pump_3\", 5, initial_pump_speed=10, src_port=1)\n",
    "    c.move(\"pump_3\", \"idex\", 2.5, speed=0.5)\n",
    "    \n",
    "    c.breakpoint()\n",
    "    \n",
    "    # trigger run\n",
    "    c[\"hplc\"].switch_method(name=\"AH_default\")\n",
    "    c[\"hplc\"].preprun()\n",
    "    while not c['hplc'].status()[0] == 'PRERUN':\n",
    "        c.wait(1)       \n",
    "    c[\"idex\"].sample(10)\n",
    "    c.wait(28*60) \n",
    "    \n",
    "    \n",
    "    c.move(\"pump_3\", \"waste_3\", 2.5, speed=50)\n",
    "    \n",
    "    # async set back to standby when done\n",
    "    #c[\"hplc\"].standby()\n",
    "            \n",
    "\n",
    "    \n",
    "    \n",
    "def clean_hplc():\n",
    "    \n",
    "    #HPLC prep run\n",
    "    c[\"hplc\"].switch_method(name=\"AH_cleaning\")\n",
    "    c[\"hplc\"].preprun()\n",
    "    \n",
    "    c.move(\"dilution\", \"waste_3\", 10, speed=50, src_port=1)\n",
    "    \n",
    "    c.breakpoint()\n",
    "    \n",
    "#    for _ in range(3):\n",
    "#        c.move(\"acetonitrile\", \"dilution\", 10, speed=50, through_nodes=\"valve_2\")\n",
    "#        c.move(\"dilution\", \"waste_3\", 15, speed=50, src_port=1)\n",
    "        \n",
    "    c.breakpoint()\n",
    "        \n",
    "    c.move(\"acetonitrile\", \"dilution\", 5, speed=50, through_nodes=\"valve_2\")\n",
    "    # load sample loop\n",
    "    c.move(\"dilution\", \"pump_3\", 5, initial_pump_speed=10, src_port=1)\n",
    "    c.move(\"pump_3\", \"idex\", 2.5, speed=0.5)\n",
    "    \n",
    "    c.breakpoint()\n",
    "    \n",
    "    # trigger run\n",
    "    while not c['hplc'].status()[0] == 'PRERUN':\n",
    "        c.wait(1)\n",
    "        \n",
    "    c[\"idex\"].sample(10)\n",
    "    \n",
    "    c.move(\"pump_3\", \"waste_3\", 2.5, speed=50)    \n",
    "    \n",
    "    c.breakpoint()\n",
    "    # async set back to standby when done\n",
    "    c[\"hplc\"].standby()\n",
    "    c.move(\"dilution\", \"waste_3\", 10, speed=50, src_port=1)"
   ]
  },
  {
   "cell_type": "code",
   "execution_count": null,
   "metadata": {},
   "outputs": [],
   "source": [
    "sample()"
   ]
  },
  {
   "cell_type": "code",
   "execution_count": null,
   "metadata": {},
   "outputs": [],
   "source": [
    "c[\"idex\"].sample(10)"
   ]
  },
  {
   "cell_type": "code",
   "execution_count": null,
   "metadata": {
    "scrolled": true
   },
   "outputs": [],
   "source": [
    "clean_hplc()"
   ]
  },
  {
   "cell_type": "code",
   "execution_count": null,
   "metadata": {},
   "outputs": [],
   "source": [
    "c[\"hplc\"].switch_method(name=\"AH_cleaning\")"
   ]
  },
  {
   "cell_type": "code",
   "execution_count": null,
   "metadata": {},
   "outputs": [],
   "source": [
    "c[\"hplc\"].switch_method(name=\"AH_default\")"
   ]
  },
  {
   "cell_type": "code",
   "execution_count": null,
   "metadata": {},
   "outputs": [],
   "source": [
    "c[\"hplc\"].standby()"
   ]
  },
  {
   "cell_type": "code",
   "execution_count": null,
   "metadata": {},
   "outputs": [],
   "source": [
    "c.move(\"pump_3\", \"waste_3\", 2.5, speed=10)"
   ]
  },
  {
   "cell_type": "code",
   "execution_count": 7,
   "metadata": {},
   "outputs": [],
   "source": [
    "import xdl\n",
    "import chemputerxdl"
   ]
  },
  {
   "cell_type": "code",
   "execution_count": 8,
   "metadata": {
    "scrolled": true
   },
   "outputs": [],
   "source": [
    "from chemputerxdl.steps import Add, Transfer, CleanBackbone, CMove, CleanVessel, PrimePumpForAdd"
   ]
  },
  {
   "cell_type": "code",
   "execution_count": null,
   "metadata": {},
   "outputs": [],
   "source": [
    "PrimePumpForAdd(reagent=\"\", reagent_vessel=\"reactor\", waste_vessel=\"waste_2\", volume=0.1).execute(c)"
   ]
  },
  {
   "cell_type": "code",
   "execution_count": null,
   "metadata": {},
   "outputs": [],
   "source": [
    "CleanVessel(vessel=\"dilution\", solvent=\"acetonitrile\", volume=5).execute(c)"
   ]
  },
  {
   "cell_type": "code",
   "execution_count": 9,
   "metadata": {},
   "outputs": [
    {
     "name": "stderr",
     "output_type": "stream",
     "text": [
      "2020-09-04 12:54:14,283 ; pump_execution ; Moving 5.0 mL from dilution (None) to waste_3 (None). (Speed - Initial: 10.0, Mid: 40.0, End: 40.0)\n",
      "INFO:chempiler:Moving 5.0 mL from dilution (None) to waste_3 (None). (Speed - Initial: 10.0, Mid: 40.0, End: 40.0)\n",
      "DEBUG:main_logger.pv_logger:ChemputerValve valve_3 - Received command ('route', 3, -1), parameters = {'aspiration_wait': 2.0}).\n",
      "DEBUG:main_logger.pv_logger:Clear errors DONE.\n",
      "DEBUG:main_logger.pv_logger:ChemputerValve valve_3 - Switching to position 3.\n",
      "DEBUG:main_logger.pv_logger:Actuation SUCCESS!\n",
      "DEBUG:main_logger.pv_logger:Move DONE\n",
      "DEBUG:main_logger.pv_logger:ChemputerPump pump_3 - Received command ('sink', 0), parameters = {'volume': 5.0, 'speed': 10.0, 'aspiration_wait': 2.0}).\n",
      "DEBUG:main_logger.pv_logger:Clear errors DONE.\n",
      "DEBUG:main_logger.pv_logger:Pump pump_3 is moving by 5.00mL at 10.0mL/min.\n",
      "DEBUG:main_logger.pv_logger:Pump pump_3 is moving to 5.00mL at 10.0mL/min.\n",
      "DEBUG:main_logger.pv_logger:Actuation SUCCESS!\n",
      "DEBUG:main_logger.pv_logger:Move DONE\n",
      "DEBUG:main_logger.pv_logger:ChemputerValve valve_3 - Received command ('route', 0, -1), parameters = {'aspiration_wait': 2.0}).\n",
      "DEBUG:main_logger.pv_logger:Clear errors DONE.\n",
      "DEBUG:main_logger.pv_logger:ChemputerValve valve_3 - Switching to position 0.\n",
      "DEBUG:main_logger.pv_logger:Actuation SUCCESS!\n",
      "DEBUG:main_logger.pv_logger:Move DONE\n",
      "DEBUG:main_logger.pv_logger:ChemputerPump pump_3 - Received command ('source', 0), parameters = {'volume': 5.0, 'speed': 40.0, 'aspiration_wait': 2.0}).\n",
      "DEBUG:main_logger.pv_logger:Clear errors DONE.\n",
      "DEBUG:main_logger.pv_logger:Pump pump_3 is moving by -5.00mL at 40.0mL/min.\n",
      "DEBUG:main_logger.pv_logger:Pump pump_3 is moving to 0.00mL at 40.0mL/min.\n",
      "DEBUG:main_logger.pv_logger:Actuation SUCCESS!\n",
      "DEBUG:main_logger.pv_logger:Move DONE.\n",
      "2020-09-04 12:54:55,635 ; pump_execution ; Negative flask volume: dilution -5.0 mL. Setting to 0.\n",
      "WARNING:chempiler:Negative flask volume: dilution -5.0 mL. Setting to 0.\n"
     ]
    },
    {
     "data": {
      "text/plain": [
       "True"
      ]
     },
     "execution_count": 9,
     "metadata": {},
     "output_type": "execute_result"
    }
   ],
   "source": [
    "CMove(\"dilution\", \"waste_3\", 5).execute(c)"
   ]
  },
  {
   "cell_type": "code",
   "execution_count": 17,
   "metadata": {},
   "outputs": [
    {
     "name": "stderr",
     "output_type": "stream",
     "text": [
      "2020-09-04 13:06:43,265 ; pump_execution ; Moving 2.0 mL from acetonitrile (None) to pump_3 (None). (Speed - Initial: 50.0, Mid: 40.0, End: 40.0)\n",
      "INFO:chempiler:Moving 2.0 mL from acetonitrile (None) to pump_3 (None). (Speed - Initial: 50.0, Mid: 40.0, End: 40.0)\n",
      "DEBUG:main_logger.pv_logger:ChemputerValve valve_3 - Received command ('route', 5, -1), parameters = {'aspiration_wait': 2.0}).\n",
      "DEBUG:main_logger.pv_logger:Clear errors DONE.\n",
      "DEBUG:main_logger.pv_logger:ChemputerValve valve_3 - Switching to position 5.\n",
      "DEBUG:main_logger.pv_logger:Actuation SUCCESS!\n",
      "DEBUG:main_logger.pv_logger:Move DONE\n",
      "DEBUG:main_logger.pv_logger:ChemputerPump pump_3 - Received command ('sink', 0), parameters = {'volume': 2.0, 'speed': 50.0, 'aspiration_wait': 2.0}).\n",
      "DEBUG:main_logger.pv_logger:Clear errors DONE.\n",
      "DEBUG:main_logger.pv_logger:Pump pump_3 is moving by 2.00mL at 50.0mL/min.\n",
      "DEBUG:main_logger.pv_logger:Pump pump_3 is moving to 2.00mL at 50.0mL/min.\n",
      "DEBUG:main_logger.pv_logger:Actuation SUCCESS!\n",
      "DEBUG:main_logger.pv_logger:Move DONE\n"
     ]
    },
    {
     "data": {
      "text/plain": [
       "True"
      ]
     },
     "execution_count": 17,
     "metadata": {},
     "output_type": "execute_result"
    }
   ],
   "source": [
    "CMove(\"acetonitrile\", \"pump_3\", volume=2, aspiration_speed=50).execute(c)"
   ]
  },
  {
   "cell_type": "code",
   "execution_count": 19,
   "metadata": {
    "scrolled": true
   },
   "outputs": [
    {
     "name": "stderr",
     "output_type": "stream",
     "text": [
      "2020-09-04 13:07:17,970 ; pump_execution ; Moving 2.0 mL from pump_3 (None) to waste_3 (None). (Speed - Initial: 50.0, Mid: 40.0, End: 1.0)\n",
      "INFO:chempiler:Moving 2.0 mL from pump_3 (None) to waste_3 (None). (Speed - Initial: 50.0, Mid: 40.0, End: 1.0)\n",
      "DEBUG:main_logger.pv_logger:ChemputerValve valve_3 - Received command ('route', 0, -1), parameters = {'aspiration_wait': 2.0}).\n",
      "DEBUG:main_logger.pv_logger:Clear errors DONE.\n",
      "DEBUG:main_logger.pv_logger:ChemputerValve valve_3 - Switching to position 0.\n",
      "DEBUG:main_logger.pv_logger:Actuation SUCCESS!\n",
      "DEBUG:main_logger.pv_logger:Move DONE\n",
      "DEBUG:main_logger.pv_logger:ChemputerPump pump_3 - Received command ('source', 0), parameters = {'volume': 2.0, 'speed': 1.0, 'aspiration_wait': 2.0}).\n",
      "DEBUG:main_logger.pv_logger:Clear errors DONE.\n",
      "DEBUG:main_logger.pv_logger:Pump pump_3 is moving by -2.00mL at 1.0mL/min.\n",
      "DEBUG:main_logger.pv_logger:Pump pump_3 is moving to 0.00mL at 1.0mL/min.\n",
      "DEBUG:main_logger.pv_logger:Actuation SUCCESS!\n",
      "DEBUG:main_logger.pv_logger:Move DONE.\n"
     ]
    },
    {
     "data": {
      "text/plain": [
       "True"
      ]
     },
     "execution_count": 19,
     "metadata": {},
     "output_type": "execute_result"
    }
   ],
   "source": [
    "CMove(\"pump_3\", \"waste_3\", volume=2, dispense_speed=1, aspiration_speed=50).execute(c)"
   ]
  },
  {
   "cell_type": "code",
   "execution_count": 10,
   "metadata": {
    "scrolled": true
   },
   "outputs": [
    {
     "data": {
      "text/plain": [
       "{'from_vessel': 'dilution',\n",
       " 'to_vessel': 'waste_3',\n",
       " 'volume': 5.0,\n",
       " 'move_speed': 40.0,\n",
       " 'aspiration_speed': 10.0,\n",
       " 'dispense_speed': 40.0,\n",
       " 'from_port': None,\n",
       " 'to_port': None,\n",
       " 'through': '',\n",
       " 'use_backbone': True,\n",
       " 'repeats': 1}"
      ]
     },
     "execution_count": 10,
     "metadata": {},
     "output_type": "execute_result"
    }
   ],
   "source": [
    "CMove(\"dilution\", \"idex\", 5).properties"
   ]
  },
  {
   "cell_type": "code",
   "execution_count": null,
   "metadata": {},
   "outputs": [],
   "source": [
    "CleanBackbone(solvent=\"acetonitrile\").human_readable()"
   ]
  },
  {
   "cell_type": "code",
   "execution_count": 6,
   "metadata": {},
   "outputs": [
    {
     "ename": "NameError",
     "evalue": "name 'CleanBackbone' is not defined",
     "output_type": "error",
     "traceback": [
      "\u001b[1;31m---------------------------------------------------------------------------\u001b[0m",
      "\u001b[1;31mNameError\u001b[0m                                 Traceback (most recent call last)",
      "\u001b[1;32m<ipython-input-6-694c898ec88b>\u001b[0m in \u001b[0;36m<module>\u001b[1;34m\u001b[0m\n\u001b[1;32m----> 1\u001b[1;33m \u001b[0mCleanBackbone\u001b[0m\u001b[1;33m(\u001b[0m\u001b[0msolvent\u001b[0m\u001b[1;33m=\u001b[0m\u001b[1;34m\"acetonitrile\"\u001b[0m\u001b[1;33m)\u001b[0m\u001b[1;33m.\u001b[0m\u001b[0mexecute\u001b[0m\u001b[1;33m(\u001b[0m\u001b[0mc\u001b[0m\u001b[1;33m)\u001b[0m\u001b[1;33m\u001b[0m\u001b[1;33m\u001b[0m\u001b[0m\n\u001b[0m",
      "\u001b[1;31mNameError\u001b[0m: name 'CleanBackbone' is not defined"
     ]
    }
   ],
   "source": [
    "CleanBackbone(solvent=\"acetonitrile\").execute(c)"
   ]
  },
  {
   "cell_type": "code",
   "execution_count": null,
   "metadata": {},
   "outputs": [],
   "source": [
    "Add(reagent=\"acetonitril\", vessel=\"dilution\", volume=0.1, priming_volume=1).execute(c)"
   ]
  },
  {
   "cell_type": "code",
   "execution_count": null,
   "metadata": {
    "scrolled": true
   },
   "outputs": [],
   "source": [
    "Transfer(from_vessel=\"reactor\", to_vessel=\"dilution\", volume=1).execute(c)"
   ]
  },
  {
   "cell_type": "code",
   "execution_count": null,
   "metadata": {},
   "outputs": [],
   "source": [
    "Add(reagent=\"acetonitrile\", vessel=\"dilution\", volume=5).execute(c)"
   ]
  },
  {
   "cell_type": "code",
   "execution_count": 22,
   "metadata": {},
   "outputs": [
    {
     "name": "stderr",
     "output_type": "stream",
     "text": [
      "2020-09-04 13:40:59,169 ; pump_execution ; Moving 4 mL from pump_3 () to waste_3 (). (Speed - Initial: 40, Mid: 40, End: 40)\n",
      "INFO:chempiler:Moving 4 mL from pump_3 () to waste_3 (). (Speed - Initial: 40, Mid: 40, End: 40)\n",
      "DEBUG:main_logger.pv_logger:ChemputerValve valve_3 - Received command ('route', 0, -1), parameters = {'aspiration_wait': 2.0}).\n",
      "DEBUG:main_logger.pv_logger:Clear errors DONE.\n",
      "DEBUG:main_logger.pv_logger:ChemputerValve valve_3 - Switching to position 0.\n",
      "DEBUG:main_logger.pv_logger:Actuation SUCCESS!\n",
      "DEBUG:main_logger.pv_logger:Move DONE\n",
      "DEBUG:main_logger.pv_logger:ChemputerPump pump_3 - Received command ('source', 0), parameters = {'volume': 4, 'speed': 20, 'aspiration_wait': 2.0}).\n",
      "DEBUG:main_logger.pv_logger:Clear errors DONE.\n",
      "DEBUG:main_logger.pv_logger:Pump pump_3 is moving by -4.00mL at 20mL/min.\n",
      "DEBUG:main_logger.pv_logger:Pump pump_3 is moving to 0.00mL at 20mL/min.\n",
      "DEBUG:main_logger.pv_logger:Actuation SUCCESS!\n",
      "DEBUG:main_logger.pv_logger:Move DONE.\n"
     ]
    },
    {
     "data": {
      "text/plain": [
       "[[(<ChemputerAPI.pump_valve_api.ChemputerValve at 0x23dad1cde50>,\n",
       "   {'cmd': ('route', 0, -1), 'aspiration_wait': 2.0})],\n",
       " [(<ChemputerAPI.pump_valve_api.ChemputerPump at 0x23dad1cb880>,\n",
       "   {'cmd': ('source', 0), 'volume': 4, 'speed': 20, 'aspiration_wait': 2.0})]]"
      ]
     },
     "execution_count": 22,
     "metadata": {},
     "output_type": "execute_result"
    }
   ],
   "source": [
    "c.move('pump_3', 'waste_3', 4, speed=20)"
   ]
  },
  {
   "cell_type": "code",
   "execution_count": 25,
   "metadata": {},
   "outputs": [
    {
     "name": "stderr",
     "output_type": "stream",
     "text": [
      "2020-09-04 13:43:32,962 ; pump_execution ; Moving 3 mL from pump_3 () to idex (). (Speed - Initial: 40, Mid: 40, End: 40)\n",
      "INFO:chempiler:Moving 3 mL from pump_3 () to idex (). (Speed - Initial: 40, Mid: 40, End: 40)\n",
      "DEBUG:main_logger.pv_logger:ChemputerValve valve_3 - Received command ('route', 4, -1), parameters = {'aspiration_wait': 2.0}).\n",
      "DEBUG:main_logger.pv_logger:Clear errors DONE.\n",
      "DEBUG:main_logger.pv_logger:ChemputerValve valve_3 - Switching to position 4.\n",
      "DEBUG:main_logger.pv_logger:Actuation SUCCESS!\n",
      "DEBUG:main_logger.pv_logger:Move DONE\n",
      "DEBUG:main_logger.pv_logger:ChemputerPump pump_3 - Received command ('source', 0), parameters = {'volume': 3, 'speed': 10, 'aspiration_wait': 2.0}).\n",
      "DEBUG:main_logger.pv_logger:Clear errors DONE.\n",
      "DEBUG:main_logger.pv_logger:Pump pump_3 is moving by -3.00mL at 10mL/min.\n",
      "DEBUG:main_logger.pv_logger:Pump pump_3 is moving to 0.00mL at 10mL/min.\n",
      "DEBUG:main_logger.pv_logger:Actuation SUCCESS!\n",
      "DEBUG:main_logger.pv_logger:Move DONE.\n"
     ]
    },
    {
     "data": {
      "text/plain": [
       "[[(<ChemputerAPI.pump_valve_api.ChemputerValve at 0x23dad1cde50>,\n",
       "   {'cmd': ('route', 4, -1), 'aspiration_wait': 2.0})],\n",
       " [(<ChemputerAPI.pump_valve_api.ChemputerPump at 0x23dad1cb880>,\n",
       "   {'cmd': ('source', 0), 'volume': 3, 'speed': 10, 'aspiration_wait': 2.0})]]"
      ]
     },
     "execution_count": 25,
     "metadata": {},
     "output_type": "execute_result"
    },
    {
     "name": "stderr",
     "output_type": "stream",
     "text": [
      "Exception in thread Exception in thread pump_2 TCP thread:\n",
      "Traceback (most recent call last):\n",
      "  File \"c:\\users\\group\\appdata\\local\\continuum\\miniconda3\\envs\\hplc\\lib\\threading.py\", line 932, in _bootstrap_inner\n",
      "pump_3 TCP thread:\n",
      "Traceback (most recent call last):\n",
      "  File \"c:\\users\\group\\appdata\\local\\continuum\\miniconda3\\envs\\hplc\\lib\\threading.py\", line 932, in _bootstrap_inner\n",
      "Exception in thread Exception in thread Exception in thread Exception in thread valve_3 TCP thread:\n",
      "Traceback (most recent call last):\n",
      "  File \"c:\\users\\group\\appdata\\local\\continuum\\miniconda3\\envs\\hplc\\lib\\threading.py\", line 932, in _bootstrap_inner\n",
      "pump_1 TCP thread:\n",
      "Traceback (most recent call last):\n",
      "  File \"c:\\users\\group\\appdata\\local\\continuum\\miniconda3\\envs\\hplc\\lib\\threading.py\", line 932, in _bootstrap_inner\n",
      "valve_1 TCP thread:\n",
      "Traceback (most recent call last):\n",
      "  File \"c:\\users\\group\\appdata\\local\\continuum\\miniconda3\\envs\\hplc\\lib\\threading.py\", line 932, in _bootstrap_inner\n",
      "valve_2 TCP thread:\n",
      "Traceback (most recent call last):\n",
      "  File \"c:\\users\\group\\appdata\\local\\continuum\\miniconda3\\envs\\hplc\\lib\\threading.py\", line 932, in _bootstrap_inner\n",
      "                self.run()\n",
      "  File \"c:\\users\\group\\appdata\\local\\continuum\\miniconda3\\envs\\hplc\\lib\\threading.py\", line 870, in run\n",
      "self.run()\n",
      "  File \"c:\\users\\group\\appdata\\local\\continuum\\miniconda3\\envs\\hplc\\lib\\threading.py\", line 870, in run\n",
      "self.run()\n",
      "  File \"c:\\users\\group\\appdata\\local\\continuum\\miniconda3\\envs\\hplc\\lib\\threading.py\", line 870, in run\n",
      "self.run()\n",
      "  File \"c:\\users\\group\\appdata\\local\\continuum\\miniconda3\\envs\\hplc\\lib\\threading.py\", line 870, in run\n",
      "    self.run()\n",
      "  File \"c:\\users\\group\\appdata\\local\\continuum\\miniconda3\\envs\\hplc\\lib\\threading.py\", line 870, in run\n",
      "    self.run()\n",
      "  File \"c:\\users\\group\\appdata\\local\\continuum\\miniconda3\\envs\\hplc\\lib\\threading.py\", line 870, in run\n",
      "        self._target(*self._args, **self._kwargs)    self._target(*self._args, **self._kwargs)\n",
      "  File \"c:\\users\\group\\code\\chemputerapi\\ChemputerAPI\\pump_valve_api.py\", line 187, in _receive_response\n",
      "self._target(*self._args, **self._kwargs)\n",
      "  File \"c:\\users\\group\\code\\chemputerapi\\ChemputerAPI\\pump_valve_api.py\", line 187, in _receive_response\n",
      "    self._target(*self._args, **self._kwargs)\n",
      "  File \"c:\\users\\group\\code\\chemputerapi\\ChemputerAPI\\pump_valve_api.py\", line 187, in _receive_response\n",
      "        self._target(*self._args, **self._kwargs)\n",
      "  File \"c:\\users\\group\\code\\chemputerapi\\ChemputerAPI\\pump_valve_api.py\", line 187, in _receive_response\n",
      "self._target(*self._args, **self._kwargs)\n",
      "  File \"c:\\users\\group\\code\\chemputerapi\\ChemputerAPI\\pump_valve_api.py\", line 187, in _receive_response\n",
      "        \n",
      "response = self.tcp.recv(BUFFER_SIZE).decode()\n",
      "OSError: [WinError 10051] A socket operation was attempted to an unreachable network\n",
      "        response = self.tcp.recv(BUFFER_SIZE).decode()\n",
      "OSError: [WinError 10051] A socket operation was attempted to an unreachable network\n",
      "response = self.tcp.recv(BUFFER_SIZE).decode()\n",
      "OSError: [WinError 10051] A socket operation was attempted to an unreachable network\n",
      "  File \"c:\\users\\group\\code\\chemputerapi\\ChemputerAPI\\pump_valve_api.py\", line 187, in _receive_response\n",
      "response = self.tcp.recv(BUFFER_SIZE).decode()\n",
      "OSError: [WinError 10051] A socket operation was attempted to an unreachable network\n",
      "    response = self.tcp.recv(BUFFER_SIZE).decode()\n",
      "OSError: [WinError 10051] A socket operation was attempted to an unreachable network\n",
      "    response = self.tcp.recv(BUFFER_SIZE).decode()\n",
      "OSError: [WinError 10051] A socket operation was attempted to an unreachable network\n"
     ]
    }
   ],
   "source": [
    "c.move('pump_3', 'idex', 3, speed=10)"
   ]
  },
  {
   "cell_type": "code",
   "execution_count": 23,
   "metadata": {
    "scrolled": true
   },
   "outputs": [
    {
     "name": "stderr",
     "output_type": "stream",
     "text": [
      "2020-09-04 13:41:28,500 ; pump_execution ; Moving 5 mL from acetonitrile () to pump_3 (). (Speed - Initial: 40, Mid: 40, End: 40)\n",
      "INFO:chempiler:Moving 5 mL from acetonitrile () to pump_3 (). (Speed - Initial: 40, Mid: 40, End: 40)\n",
      "DEBUG:main_logger.pv_logger:ChemputerValve valve_3 - Received command ('route', 5, -1), parameters = {'aspiration_wait': 2.0}).\n",
      "DEBUG:main_logger.pv_logger:Clear errors DONE.\n",
      "DEBUG:main_logger.pv_logger:ChemputerValve valve_3 - Switching to position 5.\n",
      "DEBUG:main_logger.pv_logger:Actuation SUCCESS!\n",
      "DEBUG:main_logger.pv_logger:Move DONE\n",
      "DEBUG:main_logger.pv_logger:ChemputerPump pump_3 - Received command ('sink', 0), parameters = {'volume': 5, 'speed': 20, 'aspiration_wait': 2.0}).\n",
      "DEBUG:main_logger.pv_logger:Clear errors DONE.\n",
      "DEBUG:main_logger.pv_logger:Pump pump_3 is moving by 5.00mL at 20mL/min.\n",
      "DEBUG:main_logger.pv_logger:Pump pump_3 is moving to 5.00mL at 20mL/min.\n",
      "DEBUG:main_logger.pv_logger:Actuation SUCCESS!\n",
      "DEBUG:main_logger.pv_logger:Move DONE\n",
      "2020-09-04 13:41:44,743 ; pump_execution ; Moving 1 mL from pump_3 () to idex (). (Speed - Initial: 40, Mid: 40, End: 40)\n",
      "INFO:chempiler:Moving 1 mL from pump_3 () to idex (). (Speed - Initial: 40, Mid: 40, End: 40)\n",
      "DEBUG:main_logger.pv_logger:ChemputerValve valve_3 - Received command ('route', 4, -1), parameters = {'aspiration_wait': 2.0}).\n",
      "DEBUG:main_logger.pv_logger:Clear errors DONE.\n",
      "DEBUG:main_logger.pv_logger:ChemputerValve valve_3 - Switching to position 4.\n",
      "DEBUG:main_logger.pv_logger:Actuation SUCCESS!\n",
      "DEBUG:main_logger.pv_logger:Move DONE\n",
      "DEBUG:main_logger.pv_logger:ChemputerPump pump_3 - Received command ('source', 0), parameters = {'volume': 1, 'speed': 1, 'aspiration_wait': 2.0}).\n",
      "DEBUG:main_logger.pv_logger:Clear errors DONE.\n",
      "DEBUG:main_logger.pv_logger:Pump pump_3 is moving by -1.00mL at 1mL/min.\n",
      "DEBUG:main_logger.pv_logger:Pump pump_3 is moving to 4.00mL at 1mL/min.\n",
      "DEBUG:main_logger.pv_logger:Actuation SUCCESS!\n",
      "DEBUG:main_logger.pv_logger:Move DONE\n"
     ]
    },
    {
     "data": {
      "text/plain": [
       "[[(<ChemputerAPI.pump_valve_api.ChemputerValve at 0x23dad1cde50>,\n",
       "   {'cmd': ('route', 4, -1), 'aspiration_wait': 2.0})],\n",
       " [(<ChemputerAPI.pump_valve_api.ChemputerPump at 0x23dad1cb880>,\n",
       "   {'cmd': ('source', 0), 'volume': 1, 'speed': 1, 'aspiration_wait': 2.0})]]"
      ]
     },
     "execution_count": 23,
     "metadata": {},
     "output_type": "execute_result"
    }
   ],
   "source": [
    "c.move('acetonitrile', 'pump_3', 5, speed=20)\n",
    "c.move('pump_3', 'idex', 1, speed=1)"
   ]
  },
  {
   "cell_type": "code",
   "execution_count": null,
   "metadata": {},
   "outputs": [],
   "source": [
    "c[\"hplc\"].send(\"Exit\")"
   ]
  },
  {
   "cell_type": "code",
   "execution_count": null,
   "metadata": {},
   "outputs": [],
   "source": [
    "            CMove(\n",
    "                from_vessel=self.dilution_vessel,\n",
    "                to_vessel=self.injection_pump,\n",
    "                volume=5, # dilution volume must be > 5\n",
    "                aspiration_speed=10\n",
    "            ),\n",
    "            # move to idex (slowly)\n",
    "            CMove(\n",
    "                from_vessel=self.injection_pump,\n",
    "                to_vessel=self.distribution_valve,\n",
    "                volume=2.5,\n",
    "                dispense_speed=0.5\n",
    "            ),"
   ]
  },
  {
   "cell_type": "code",
   "execution_count": null,
   "metadata": {
    "scrolled": true
   },
   "outputs": [],
   "source": [
    "c.stirrer.set_stir_rate(\"dilution\", 100)\n",
    "c.stirrer.stir(\"dilution\")"
   ]
  },
  {
   "cell_type": "code",
   "execution_count": null,
   "metadata": {},
   "outputs": [],
   "source": [
    "c.stirrer.set_stir_rate(\"reactor\", 200)\n",
    "c.stirrer.stir(\"reactor\")"
   ]
  },
  {
   "cell_type": "code",
   "execution_count": null,
   "metadata": {},
   "outputs": [],
   "source": [
    "ChemputerAPI.flasks.ChemputerReactor."
   ]
  },
  {
   "cell_type": "code",
   "execution_count": 1,
   "metadata": {},
   "outputs": [
    {
     "ename": "ModuleNotFoundError",
     "evalue": "No module named 'chemputeroptimizer.steps'",
     "output_type": "error",
     "traceback": [
      "\u001b[1;31m---------------------------------------------------------------------------\u001b[0m",
      "\u001b[1;31mModuleNotFoundError\u001b[0m                       Traceback (most recent call last)",
      "\u001b[1;32m<ipython-input-1-acc313d54685>\u001b[0m in \u001b[0;36m<module>\u001b[1;34m\u001b[0m\n\u001b[1;32m----> 1\u001b[1;33m \u001b[1;32mfrom\u001b[0m \u001b[0mchemputeroptimizer\u001b[0m\u001b[1;33m.\u001b[0m\u001b[0msteps\u001b[0m \u001b[1;32mimport\u001b[0m \u001b[0mFinalAnalysis\u001b[0m\u001b[1;33m\u001b[0m\u001b[1;33m\u001b[0m\u001b[0m\n\u001b[0m",
      "\u001b[1;31mModuleNotFoundError\u001b[0m: No module named 'chemputeroptimizer.steps'"
     ]
    }
   ],
   "source": [
    "from chemputeroptimizer.steps import FinalAnalysis"
   ]
  },
  {
   "cell_type": "code",
   "execution_count": 3,
   "metadata": {},
   "outputs": [],
   "source": [
    "import chemputeroptimizer"
   ]
  },
  {
   "cell_type": "code",
   "execution_count": null,
   "metadata": {},
   "outputs": [],
   "source": []
  },
  {
   "cell_type": "code",
   "execution_count": null,
   "metadata": {},
   "outputs": [],
   "source": [
    "from chemputerxdl.utils.execution import get_nearest_node"
   ]
  },
  {
   "cell_type": "code",
   "execution_count": null,
   "metadata": {},
   "outputs": [],
   "source": [
    "get_nearest_node(graph, self.dilution_vessel, \"ChemputerIDEX\")"
   ]
  }
 ],
 "metadata": {
  "kernelspec": {
   "display_name": "Python 3",
   "language": "python",
   "name": "python3"
  },
  "language_info": {
   "codemirror_mode": {
    "name": "ipython",
    "version": 3
   },
   "file_extension": ".py",
   "mimetype": "text/x-python",
   "name": "python",
   "nbconvert_exporter": "python",
   "pygments_lexer": "ipython3",
   "version": "3.8.3"
  }
 },
 "nbformat": 4,
 "nbformat_minor": 4
}
